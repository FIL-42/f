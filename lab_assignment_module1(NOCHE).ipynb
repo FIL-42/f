{
  "nbformat": 4,
  "nbformat_minor": 0,
  "metadata": {
    "colab": {
      "provenance": []
    },
    "kernelspec": {
      "name": "python3",
      "display_name": "Python 3"
    }
  },
  "cells": [
    {
      "cell_type": "markdown",
      "metadata": {
        "id": "G0BcK0H_G1Iu"
      },
      "source": [
        "# **AP155 Lab Assignment**\n",
        "## Module 1: Integrals and Derivatives\n",
        "\n",
        "_Instructions_: Answer each problem as completely as you can. Discuss **all** your answers as clearly and concisely as possible.\n",
        "\n",
        "_Scoring Criteria_: 50% - *correctness of code*; 50% - *discussion of the code and results*. Maximum score is **100 points**.\n",
        "\n",
        "\n"
      ]
    },
    {
      "cell_type": "markdown",
      "metadata": {
        "id": "PeHZ9kP8JaVR"
      },
      "source": [
        "### Student Information\n",
        "\n",
        "_Full Name (Last Name, First Name)_: Noche, Filomeno III \\\n",
        "_Student No._: 2019-07659\\\n",
        "_Section_: THV-TX-1"
      ]
    },
    {
      "cell_type": "markdown",
      "metadata": {
        "id": "Hc183co-J4eI"
      },
      "source": [
        "### Submission Information\n",
        "\n",
        "_Date and Time Submitted (most recent upload)_:\n",
        "\n",
        "**HONOR PLEDGE** I affirm that I have upheld the highest principles of honesty and integrity in my academic work and that this lab assignment is my own work.\n",
        "\n",
        "**Sign here with your full name: Filomeno III A. Noche**"
      ]
    },
    {
      "cell_type": "markdown",
      "metadata": {
        "id": "X1UGsRpW-eQs"
      },
      "source": [
        "### Grading Information (c/o Lab Instructor)\n",
        "\n",
        "TOTAL SCORE: **XX**/100\n",
        "\n",
        "Score breakdown:\n",
        "* Problem 1 - XX/30\n",
        "* Problem 2 - XX/30\n",
        "* Problem 3 - XX/40\n",
        "\n",
        "_Date and Time Scored (MM/DD/YYYY HH:MM AM/PM):_"
      ]
    },
    {
      "cell_type": "markdown",
      "metadata": {
        "id": "LxWuqiCFMsEh"
      },
      "source": [
        "### PROBLEM 1\n",
        "**Integration using the trapezoidal rule and Simpson's rule**\n",
        "\n",
        "Calculate the integral of the function $ 2x^4 + 3x^2 + 4x + 5$ from $x=0$ to $x=5$.\n",
        "\n",
        "1. Do the numerical calculation using the trapezoidal rule with 10, 100, and 1,000 slices. Describe each step of the calculation clearly and concisely. *(10 pts.)*\n",
        "\n",
        "2. What are the percentage errors of your answers in (1)? *(10 pts.)*\n",
        "\n",
        "3. Repeat the calculation using Simpson's rule with 10, 100, and 1,000 slices. Describe each step of the calculation clearly and concisely. *(5 pts.)*\n",
        "\n",
        "4. What are the percentage errors of your answers in (3)? How do they compare with the results from (1) for the same number of slices? *(5 pts.)*"
      ]
    },
    {
      "cell_type": "markdown",
      "source": [
        "10 slices using Trapezoidal Rule"
      ],
      "metadata": {
        "id": "a3Yeyyt6iZuc"
      }
    },
    {
      "cell_type": "code",
      "metadata": {
        "id": "hMqWOsbIMoUh",
        "colab": {
          "base_uri": "https://localhost:8080/"
        },
        "outputId": "e85199f8-68d6-4142-e6b8-97c756ecde31"
      },
      "source": [
        "def f(x):\n",
        "  return 2*x**4 + 3*x**2 + 4*x + 5\n",
        "# f(x) is defined as the given function in the problem.\n",
        "n=10 # for 10 slices\n",
        "a=0   # lower limit\n",
        "b=5  # upper limit\n",
        "h=(b-a)/n # width of each interval\n",
        "\n",
        "s=0.5*f(a) + 0.5*f(b) # s = area of the first and last intervals\n",
        "for k in range(1,n):\n",
        "  s += f(a+k*h) # foor loop for the areas for the rest of the intervals\n",
        "\n",
        "print(h*s) # prints the area 1471.4375"
      ],
      "execution_count": null,
      "outputs": [
        {
          "output_type": "stream",
          "name": "stdout",
          "text": [
            "1471.4375\n"
          ]
        }
      ]
    },
    {
      "cell_type": "markdown",
      "source": [
        "100 slices using Trapezoidal Rule"
      ],
      "metadata": {
        "id": "xSGGE0dUi6ux"
      }
    },
    {
      "cell_type": "code",
      "source": [
        "def f(x):\n",
        "  return 2*x**4 + 3*x**2 + 4*x + 5\n",
        "# f(x) is defined as the given function in the problem.\n",
        "n=100 # for 100 slices\n",
        "a=0   # lower limit\n",
        "b=5  # upper limit\n",
        "h=(b-a)/n # width of each interval\n",
        "\n",
        "s=0.5*f(a) + 0.5*f(b) # s = area of the first and last intervals\n",
        "for k in range(1,n):\n",
        "  s += f(a+k*h) # foor loop for the areas for the rest of the intervals\n",
        "\n",
        "print(h*s) # prints 1450.2145812500003"
      ],
      "metadata": {
        "colab": {
          "base_uri": "https://localhost:8080/"
        },
        "id": "DqRWG8tKfE2Y",
        "outputId": "e9646125-4def-4adf-cfa3-2342ea4888e1"
      },
      "execution_count": null,
      "outputs": [
        {
          "output_type": "stream",
          "name": "stdout",
          "text": [
            "1450.2145812500003\n"
          ]
        }
      ]
    },
    {
      "cell_type": "markdown",
      "source": [
        "1000 slices using Trapezoidal Rule"
      ],
      "metadata": {
        "id": "VSwmveP5i93u"
      }
    },
    {
      "cell_type": "code",
      "source": [
        "def f(x):\n",
        "  return 2*x**4 + 3*x**2 + 4*x + 5\n",
        "# f(x) is defined as the given function in the problem.\n",
        "n=1000 # fro 1000 slices\n",
        "a=0   # lower limit\n",
        "b=5  # upper limit\n",
        "h=(b-a)/n # width of each interval\n",
        "\n",
        "s=0.5*f(a) + 0.5*f(b) # s = area of the first and last intervals\n",
        "for k in range(1,n):\n",
        "  s += f(a+k*h) # foor loop for the areas for the rest of the intervals\n",
        "\n",
        "print(h*s) # prints the area 1450.0021458331234"
      ],
      "metadata": {
        "colab": {
          "base_uri": "https://localhost:8080/"
        },
        "id": "K1-TunAkhaCf",
        "outputId": "350c4db6-d80a-4635-a131-52d83f78db4c"
      },
      "execution_count": null,
      "outputs": [
        {
          "output_type": "stream",
          "name": "stdout",
          "text": [
            "1450.0021458331234\n"
          ]
        }
      ]
    },
    {
      "cell_type": "markdown",
      "source": [
        "Percentage Error of slices using trapezoidal Rule"
      ],
      "metadata": {
        "id": "rJmfHrTIjOLR"
      }
    },
    {
      "cell_type": "code",
      "source": [
        "i1=1471.4375 #10 slices\n",
        "i2=1450.2145812500003 #100 slices\n",
        "i3=1450.0021458331234 #1000 slices\n",
        "i=1450 # from calculation\n",
        "def p(x): # percentage error formula\n",
        "  return ((x-i)*100)/i\n",
        "\n",
        "print(\"percentage error of 10 slices: \", p(i1), \"%\")\n",
        "print(\"percentage error of 100 slices: \", p(i2), \"%\")\n",
        "print(\"percentage error of 1000 slices: \", p(i3), \"%\")\n"
      ],
      "metadata": {
        "colab": {
          "base_uri": "https://localhost:8080/"
        },
        "id": "4bvHgD4bhelg",
        "outputId": "d33eccf1-1593-43f3-dc9a-10b2ec3bdd2f"
      },
      "execution_count": null,
      "outputs": [
        {
          "output_type": "stream",
          "name": "stdout",
          "text": [
            "percentage error of 10 slices:  1.478448275862069 %\n",
            "percentage error of 100 slices:  0.01479870689656999 %\n",
            "percentage error of 1000 slices:  0.00014798849127240326 %\n"
          ]
        }
      ]
    },
    {
      "cell_type": "markdown",
      "source": [
        "10 slices using Simpson's Rule"
      ],
      "metadata": {
        "id": "kvFiMV8_lC4v"
      }
    },
    {
      "cell_type": "code",
      "source": [
        "def f(x):\n",
        "  return 2*x**4 + 3*x**2 + 4*x + 5\n",
        "# f(x) is defined as the given function in the problem.\n",
        "n=10 # fro 10 slices\n",
        "a=0   # lower limit\n",
        "b=5  # upper limit\n",
        "h=(b-a)/n # width of each interval\n",
        "\n",
        "s=f(a)+f(b) # initial value\n",
        "for k in range(1,n,2):\n",
        "  s+= 4*f(a+k*h) # for loop for the odd values of k\n",
        "for k in range(2,n,2):\n",
        "  s+= 2*f(a+k*h) # for loop for the even values of k\n",
        "s=s*(1./3)*h #total estimated value of the integral\n",
        "print(s)"
      ],
      "metadata": {
        "colab": {
          "base_uri": "https://localhost:8080/"
        },
        "id": "BptQcqjklIon",
        "outputId": "ba618379-c0b9-413b-ada2-8c58c79c7b5d"
      },
      "execution_count": null,
      "outputs": [
        {
          "output_type": "stream",
          "name": "stdout",
          "text": [
            "1450.0833333333333\n"
          ]
        }
      ]
    },
    {
      "cell_type": "markdown",
      "source": [
        "100 slices using Simpson's Rule"
      ],
      "metadata": {
        "id": "7xFQxpZVm7_o"
      }
    },
    {
      "cell_type": "code",
      "source": [
        "def f(x):\n",
        "  return 2*x**4 + 3*x**2 + 4*x + 5\n",
        "# f(x) is defined as the given function in the problem.\n",
        "n=100 # fro 100 slices\n",
        "a=0   # lower limit\n",
        "b=5  # upper limit\n",
        "h=(b-a)/n # width of each interval\n",
        "\n",
        "s=f(a)+f(b) # initial value\n",
        "for k in range(1,n,2):\n",
        "  s+= 4*f(a+k*h) # for loop for the odd values of k\n",
        "for k in range(2,n,2):\n",
        "  s+= 2*f(a+k*h) # for loop for the even values of k\n",
        "s=s*(1./3)*h #total estimated value of the integral\n",
        "print(s)"
      ],
      "metadata": {
        "colab": {
          "base_uri": "https://localhost:8080/"
        },
        "id": "8bD6kWchm_nY",
        "outputId": "0ad6f74e-af5b-4f69-ad41-f3253589d30a"
      },
      "execution_count": null,
      "outputs": [
        {
          "output_type": "stream",
          "name": "stdout",
          "text": [
            "1450.0000083333337\n"
          ]
        }
      ]
    },
    {
      "cell_type": "markdown",
      "source": [
        "1000 slices for Simpson's Rule"
      ],
      "metadata": {
        "id": "bulyGCkVnFi0"
      }
    },
    {
      "cell_type": "code",
      "source": [
        "def f(x):\n",
        "  return 2*x**4 + 3*x**2 + 4*x + 5\n",
        "# f(x) is defined as the given function in the problem.\n",
        "n=1000 # fro 1000 slices\n",
        "a=0   # lower limit\n",
        "b=5  # upper limit\n",
        "h=(b-a)/n # width of each interval\n",
        "\n",
        "s=f(a)+f(b) # initial value\n",
        "for k in range(1,n,2):\n",
        "  s+= 4*f(a+k*h) # for loop for the odd values of k\n",
        "for k in range(2,n,2):\n",
        "  s+= 2*f(a+k*h) # for loop for the even values of k\n",
        "s=s*(1./3)*h #total estimated value of the integral\n",
        "print(s)"
      ],
      "metadata": {
        "colab": {
          "base_uri": "https://localhost:8080/"
        },
        "id": "MHcn3PzWnLQS",
        "outputId": "9f5fdbd9-d017-41c1-cdd9-e5330974d06e"
      },
      "execution_count": null,
      "outputs": [
        {
          "output_type": "stream",
          "name": "stdout",
          "text": [
            "1450.0000000008342\n"
          ]
        }
      ]
    },
    {
      "cell_type": "markdown",
      "source": [
        "Percentage Error for Simpson's Rule"
      ],
      "metadata": {
        "id": "AiMoARgYnR7l"
      }
    },
    {
      "cell_type": "code",
      "source": [
        "i1=1450.0833333333333 #10 slices\n",
        "i2=1450.0000083333337 #100 slices\n",
        "i3=1450.0000000008342 #1000 slices\n",
        "i=1450 # from calculation\n",
        "def p(x): # percentage error formula\n",
        "  return ((x-i)*100)/i\n",
        "\n",
        "print(\"percentage error of 10 slices: \", p(i1), \"%\")\n",
        "print(\"percentage error of 100 slices: \", p(i2), \"%\") #note the e-07\n",
        "print(\"percentage error of 1000 slices: \", p(i3), \"%\") #note the e-11"
      ],
      "metadata": {
        "colab": {
          "base_uri": "https://localhost:8080/"
        },
        "id": "IGHh0WPSnQX1",
        "outputId": "441afbe8-0275-4615-da01-3fc429b7f3cc"
      },
      "execution_count": null,
      "outputs": [
        {
          "output_type": "stream",
          "name": "stdout",
          "text": [
            "percentage error of 10 slices:  0.005747126436776382 %\n",
            "percentage error of 100 slices:  5.747126657485657e-07 %\n",
            "percentage error of 1000 slices:  5.753338035870472e-11 %\n"
          ]
        }
      ]
    },
    {
      "cell_type": "markdown",
      "source": [
        "Answer to no. 4: Comparing the percentage errors from the Trapezoidal Rule and Simpson's Rule, the latter is more accurate already from just using 10 slides than the 10 slides of the former."
      ],
      "metadata": {
        "id": "TbtDobHUpNe7"
      }
    },
    {
      "cell_type": "markdown",
      "metadata": {
        "id": "m2a6sg90R-NX"
      },
      "source": [
        "### PROBLEM 2\n",
        "\n",
        "**Integration using Gaussian quadrature**\n",
        "\n",
        "Calculate the integral from Problem 1 using the Gaussian quadrature method: $ 2x^4 + 3x^2 + 4x + 5$ from $x=0$ to $x=5$.\n",
        "\n",
        "1. Define the function $\\tt gaussxw$ from Appendix E of the Newman text (and run the cell). *(10 pts.)*\n",
        "\n",
        "2. Calculate the integral using the $\\tt gaussxw$ function in (1) and number of slices $N = 3$. Describe each step in the calculation clearly and concisely. *(20 pts.)*"
      ]
    },
    {
      "cell_type": "code",
      "metadata": {
        "id": "YO_PDJ4VIVs5",
        "colab": {
          "base_uri": "https://localhost:8080/"
        },
        "outputId": "c83a3981-2f53-4c0d-938b-014a9dd10a32"
      },
      "source": [
        "from numpy import ones, copy, cos, tan, pi, linspace #function gaussxw from Apendix E of Newman text\n",
        "def gaussxw(n):\n",
        "  #initial approximation to roots of the Legenre polynomial\n",
        "  a = linspace(3,4*n-1,n)/(4*n+2)\n",
        "  x=cos(pi*a+1/(8*n*n*tan(a)))\n",
        "  # Find roots using Newton's method\n",
        "  epsilon=1e-15\n",
        "  delta = 1.0\n",
        "  while delta>epsilon:\n",
        "    p0= ones(n,float)\n",
        "    p1= copy(x)\n",
        "    for k in range(1,n):\n",
        "      p0, p1= p1, ((2*k+1)*x*p1-k*p0)/(k+1)\n",
        "    dp=(n+1)*(p0-x*p1)/(1-x*x)\n",
        "    dx=p1/dp\n",
        "    x -= dx\n",
        "    delta = max(abs(dx))\n",
        "  #Calculate the weights\n",
        "  w=2*(n+1)*(n+1)/(n*n*(1-x*x)*dp*dp)\n",
        "  return x,w\n",
        "\n",
        "def f(x):\n",
        "  return 2*x**4 + 3*x**2 + 4*x + 5\n",
        "# f(x) is defined as the given function in the problem.\n",
        "n=3 # fro 3 slices\n",
        "a=0.0   # lower limit\n",
        "b=5.0  # upper limit\n",
        "\n",
        "x,w =gaussxw(n)\n",
        "xp = 0.5*(b-a)*x + 0.5*(b+a)\n",
        "wp = 0.5*(b-a)*w\n",
        "#this rescales the sample points and weights for the given domain [a,b]\n",
        "s=0\n",
        "for k in range(n):\n",
        "  s+=wp[k]*f(xp[k])\n",
        "  # for loop calculates the sum to get the estimate for the integral\n",
        "\n",
        "print(s)\n"
      ],
      "execution_count": null,
      "outputs": [
        {
          "output_type": "stream",
          "name": "stdout",
          "text": [
            "1450.000000000002\n"
          ]
        }
      ]
    },
    {
      "cell_type": "markdown",
      "metadata": {
        "id": "HceOjNu-VfN9"
      },
      "source": [
        "### PROBLEM 3\n",
        "\n",
        "**Physics Application: Anharmonic Oscillator**\n",
        "\n",
        "_Refer to Exercise 5.10 of the Newman text._ Consider an anharmonic oscillator with potential $V(x)$ symmetric about $x = 0$. Let us set our anharmonic oscillator going with amplitude $a$. That is, at $t = 0$ we release it from rest at position $x = a$ and it swings back towards the origin. Then at $t = 0$ we have $dx/dt = 0$ and the equation for its total energy becomes $E = V(a)$, i.e., the total energy of the particle is given in terms of the amplitude.\n",
        "\n",
        "When the particle reaches the origin for the first time, it has gone through one quarter of a period of the oscillator. The period $T$ is given by: $$ T = \\sqrt{8m} \\int_0^a \\frac{dx}{\\sqrt{V(a)-V(x)}}. $$\n",
        "\n",
        "1. Suppose the potential is $V(x) = x^4$ and the mass of the particle is $m = 1$. Write a Python function that calculates the period of the oscillator for given amplitude a using Gaussian quadrature with $N = 20$ points. Describe each step clearly and concisely. *(20 pts.)*\n",
        "\n",
        "2. Use your function to make a graph of the period for amplitudes ranging from $a = 0$ to $a = 2$. Describe the behavior you find and explain these results clearly and concisely. *(20 pts.)*"
      ]
    },
    {
      "cell_type": "code",
      "source": [
        "from numpy import ones, copy, cos, tan, pi, linspace, sqrt #function gaussxw from Apendix E of Newman text\n",
        "def gaussxw(n):\n",
        "  #initial approximation to roots of the Legenre polynomial\n",
        "  a = linspace(3,4*n-1,n)/(4*n+2)\n",
        "  x=cos(pi*a+1/(8*n*n*tan(a)))\n",
        "  # Find roots using Newton's method\n",
        "  epsilon=1e-15\n",
        "  delta = 1.0\n",
        "  while delta>epsilon:\n",
        "    p0= ones(n,float)\n",
        "    p1= copy(x)\n",
        "    for k in range(1,n):\n",
        "      p0, p1= p1, ((2*k+1)*x*p1-k*p0)/(k+1)\n",
        "    dp=(n+1)*(p0-x*p1)/(1-x*x)\n",
        "    dx=p1/dp\n",
        "    x -= dx\n",
        "    delta = max(abs(dx))\n",
        "  #Calculate the weights\n",
        "  w=2*(n+1)*(n+1)/(n*n*(1-x*x)*dp*dp)\n",
        "  return x,w\n",
        "\n",
        "n=20 # for 20 slices\n",
        "a=0.0   # lower limit\n",
        "m=1 #mass\n",
        "b=0 #initial upper limit\n",
        "period=[] #y-axis list of values\n",
        "amplitude=[] #x-axis list of values\n",
        "for i in range(n): #for loop for b. It will add 0.1 which represents each of the 20 slices.\n",
        "  b+=0.1\n",
        "  amplitude.append(b)\n",
        "  def v(x):\n",
        "    return x**4\n",
        "\n",
        "  def f(x):\n",
        "    return sqrt(8*m)/sqrt(v(b)-v(x))\n",
        "#function to be integrated\n",
        "  x,w =gaussxw(n)\n",
        "  xp = 0.5*(b-a)*x + 0.5*(b+a)\n",
        "  wp = 0.5*(b-a)*w\n",
        "\n",
        "  s=0\n",
        "  for k in range(n):\n",
        "    s+=wp[k]*f(xp[k])\n",
        "  period.append(s)\n",
        "  #from this point, b is added another 0.1 and its corresponding value for period is appended to the period list of y-values.\n",
        "  import matplotlib.pyplot as plt\n",
        "  plt.plot(amplitude, period)\n",
        "  plt.xlabel(\"Amplitude(a)\")\n",
        "  plt.ylabel(\"Period(T)\")\n"
      ],
      "metadata": {
        "colab": {
          "base_uri": "https://localhost:8080/",
          "height": 449
        },
        "id": "9RAJjJ5nMG2k",
        "outputId": "e3fe80a0-65e4-46fa-a9dc-85db57dae37a"
      },
      "execution_count": 1,
      "outputs": [
        {
          "output_type": "display_data",
          "data": {
            "text/plain": [
              "<Figure size 640x480 with 1 Axes>"
            ],
            "image/png": "[encoded data removed]"
          },
          "metadata": {}
        }
      ]
    },
    {
      "cell_type": "markdown",
      "source": [
        "Explanation for the Graph: This is a Amplitude vs. Period graph which shows that $T→∞$ as $a→0$ while $T→0$ as $a→∞$. In an ideal harmonic oscillator, amplitude and period are independent. However, in an anharmonic oscillator, there exists a relationship and it is shown in the equations below."
      ],
      "metadata": {
        "id": "ST15b9E5YjO_"
      }
    },
    {
      "cell_type": "markdown",
      "source": [
        "$V=x^4$ \\\n",
        "$F=dV/dt=4x^3$\n",
        ", where $x=asinωt$ \\\n",
        "$m\\frac{d^2x}{dt^2}=m(-aω^2sinωt)=mω^2x$\\\n",
        "Thus,\\\n",
        "$F=m\\frac{d^2x}{dt^2}$\\\n",
        "$4x^3=mω^2x $\\\n",
        "$ω=\\sqrt{\\frac{4x^2}{m}}$\\\n",
        "$T=2π\\sqrt{\\frac{m}{4x^2}}$\\\n",
        "$T=2π\\sqrt{\\frac{m}{4(asinωt)^2}}$\\\n",
        "$\\therefore T∝\\frac{1}{a}$.\\\n",
        "In this case, the graph of $\\frac{1}{a}$ has a similar shape as the period vs. amplitude graph."
      ],
      "metadata": {
        "id": "4kt9mK96_y63"
      }
    },
    {
      "cell_type": "code",
      "source": [],
      "metadata": {
        "id": "wBZE5yIQYmu7"
      },
      "execution_count": null,
      "outputs": []
    }
  ]
}